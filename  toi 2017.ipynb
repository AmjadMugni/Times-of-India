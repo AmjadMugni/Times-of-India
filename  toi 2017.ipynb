{
 "cells": [
  {
   "cell_type": "code",
   "execution_count": 1,
   "id": "facial-emergency",
   "metadata": {},
   "outputs": [],
   "source": [
    "import pandas as pd\n",
    "import requests\n",
    "from bs4 import BeautifulSoup\n",
    "import datetime\n",
    "import numpy as np"
   ]
  },
  {
   "cell_type": "code",
   "execution_count": 3,
   "id": "fossil-kansas",
   "metadata": {},
   "outputs": [],
   "source": [
    "data = []"
   ]
  },
  {
   "cell_type": "code",
   "execution_count": 4,
   "id": "endangered-vertex",
   "metadata": {},
   "outputs": [],
   "source": [
    "date = datetime.datetime(2017,1,1)\n",
    "\n",
    "const = 42736\n",
    "\n",
    "for i in range(74) :\n",
    "    \n",
    "    date = date + datetime.timedelta(days=1)\n",
    "    const = const+1\n",
    "    year = date.year\n",
    "    month = date.month\n",
    "    day = date.day\n",
    "    url = \"https://timesofindia.indiatimes.com/\"+str(date.year)+\"/\"+str(date.month)+\"/\"+str(date.day)+\"/archivelist/year-\"+str(date.year)+\",month-\"+str(date.month)+\",starttime-\"+str(const)+\".cms\"\n",
    "  \n",
    "    r = requests.get(url) \n",
    "   \n",
    "    soup = BeautifulSoup(r.content, 'html5lib')\n",
    "\n",
    "    links = soup.find_all(\"span\",{'style' : \"font-family:arial ;font-size:12;color: #006699\"})\n",
    "\n",
    "    soup1 = links[0]\n",
    "    soup2 = links[1]\n",
    "    #soup3 = links[2]\n",
    "\n",
    "for a in soup1.find_all('a') :\n",
    "    row = [year, month, day, a.get_text()]\n",
    "    data.append(row)\n",
    "    for a in soup2.find_all('a') :\n",
    "        row = [year, month, day, a.get_text()]\n",
    "        data.append(row)\n",
    "\n",
    "\n",
    "    if (i%100 == 0) :\n",
    "        print(f\"---- {i} ----\")\n",
    "\n"
   ]
  },
  {
   "cell_type": "code",
   "execution_count": 5,
   "id": "neutral-argument",
   "metadata": {},
   "outputs": [],
   "source": [
    "data1 = np.array(data)"
   ]
  },
  {
   "cell_type": "code",
   "execution_count": 6,
   "id": "brief-today",
   "metadata": {},
   "outputs": [
    {
     "data": {
      "text/plain": [
       "(62748, 4)"
      ]
     },
     "execution_count": 6,
     "metadata": {},
     "output_type": "execute_result"
    }
   ],
   "source": [
    "data1.shape"
   ]
  },
  {
   "cell_type": "code",
   "execution_count": 7,
   "id": "entitled-cycling",
   "metadata": {},
   "outputs": [],
   "source": [
    "dataset = pd.DataFrame(data1)\n"
   ]
  },
  {
   "cell_type": "code",
   "execution_count": 8,
   "id": "responsible-keyboard",
   "metadata": {},
   "outputs": [],
   "source": [
    "dataset.columns = ['year','month','day','headlines']\n"
   ]
  },
  {
   "cell_type": "code",
   "execution_count": 9,
   "id": "comic-wheel",
   "metadata": {},
   "outputs": [
    {
     "data": {
      "text/html": [
       "<div>\n",
       "<style scoped>\n",
       "    .dataframe tbody tr th:only-of-type {\n",
       "        vertical-align: middle;\n",
       "    }\n",
       "\n",
       "    .dataframe tbody tr th {\n",
       "        vertical-align: top;\n",
       "    }\n",
       "\n",
       "    .dataframe thead th {\n",
       "        text-align: right;\n",
       "    }\n",
       "</style>\n",
       "<table border=\"1\" class=\"dataframe\">\n",
       "  <thead>\n",
       "    <tr style=\"text-align: right;\">\n",
       "      <th></th>\n",
       "      <th>year</th>\n",
       "      <th>month</th>\n",
       "      <th>day</th>\n",
       "      <th>headlines</th>\n",
       "    </tr>\n",
       "  </thead>\n",
       "  <tbody>\n",
       "    <tr>\n",
       "      <th>0</th>\n",
       "      <td>2017</td>\n",
       "      <td>3</td>\n",
       "      <td>16</td>\n",
       "      <td>New Raajakumara teaser to be released on Punee...</td>\n",
       "    </tr>\n",
       "    <tr>\n",
       "      <th>1</th>\n",
       "      <td>2017</td>\n",
       "      <td>3</td>\n",
       "      <td>16</td>\n",
       "      <td>Nagpur’s best brains battle it out at ‘Komsam’...</td>\n",
       "    </tr>\n",
       "    <tr>\n",
       "      <th>2</th>\n",
       "      <td>2017</td>\n",
       "      <td>3</td>\n",
       "      <td>16</td>\n",
       "      <td>So far so good: Students happy with Physics paper</td>\n",
       "    </tr>\n",
       "    <tr>\n",
       "      <th>3</th>\n",
       "      <td>2017</td>\n",
       "      <td>3</td>\n",
       "      <td>16</td>\n",
       "      <td>Ticket-seekers flood party with applications</td>\n",
       "    </tr>\n",
       "    <tr>\n",
       "      <th>4</th>\n",
       "      <td>2017</td>\n",
       "      <td>3</td>\n",
       "      <td>16</td>\n",
       "      <td>Charges filed against ex-law minister Jitender...</td>\n",
       "    </tr>\n",
       "    <tr>\n",
       "      <th>...</th>\n",
       "      <td>...</td>\n",
       "      <td>...</td>\n",
       "      <td>...</td>\n",
       "      <td>...</td>\n",
       "    </tr>\n",
       "    <tr>\n",
       "      <th>62743</th>\n",
       "      <td>2017</td>\n",
       "      <td>3</td>\n",
       "      <td>16</td>\n",
       "      <td>UP Board exams begin today; officials clueless...</td>\n",
       "    </tr>\n",
       "    <tr>\n",
       "      <th>62744</th>\n",
       "      <td>2017</td>\n",
       "      <td>3</td>\n",
       "      <td>16</td>\n",
       "      <td>No half-cooked Metro for Kochi, says KMRL</td>\n",
       "    </tr>\n",
       "    <tr>\n",
       "      <th>62745</th>\n",
       "      <td>2017</td>\n",
       "      <td>3</td>\n",
       "      <td>16</td>\n",
       "      <td>‘Wrong’ question in maths paper puzzles ISC st...</td>\n",
       "    </tr>\n",
       "    <tr>\n",
       "      <th>62746</th>\n",
       "      <td>2017</td>\n",
       "      <td>3</td>\n",
       "      <td>16</td>\n",
       "      <td>SGPC seeks PM Modi's help on EU court order</td>\n",
       "    </tr>\n",
       "    <tr>\n",
       "      <th>62747</th>\n",
       "      <td>2017</td>\n",
       "      <td>3</td>\n",
       "      <td>16</td>\n",
       "      <td>48-year-old arrested for forging documents</td>\n",
       "    </tr>\n",
       "  </tbody>\n",
       "</table>\n",
       "<p>62748 rows × 4 columns</p>\n",
       "</div>"
      ],
      "text/plain": [
       "       year month day                                          headlines\n",
       "0      2017     3  16  New Raajakumara teaser to be released on Punee...\n",
       "1      2017     3  16  Nagpur’s best brains battle it out at ‘Komsam’...\n",
       "2      2017     3  16  So far so good: Students happy with Physics paper\n",
       "3      2017     3  16       Ticket-seekers flood party with applications\n",
       "4      2017     3  16  Charges filed against ex-law minister Jitender...\n",
       "...     ...   ...  ..                                                ...\n",
       "62743  2017     3  16  UP Board exams begin today; officials clueless...\n",
       "62744  2017     3  16          No half-cooked Metro for Kochi, says KMRL\n",
       "62745  2017     3  16  ‘Wrong’ question in maths paper puzzles ISC st...\n",
       "62746  2017     3  16        SGPC seeks PM Modi's help on EU court order\n",
       "62747  2017     3  16         48-year-old arrested for forging documents\n",
       "\n",
       "[62748 rows x 4 columns]"
      ]
     },
     "execution_count": 9,
     "metadata": {},
     "output_type": "execute_result"
    }
   ],
   "source": [
    "dataset"
   ]
  },
  {
   "cell_type": "code",
   "execution_count": 19,
   "id": "caroline-profession",
   "metadata": {},
   "outputs": [],
   "source": [
    "dataset.to_csv(r\"C:\\Users\\Sumain\\Desktop\\gitu\\dataset2017.csv\",index=True)"
   ]
  },
  {
   "cell_type": "code",
   "execution_count": null,
   "id": "front-commodity",
   "metadata": {},
   "outputs": [],
   "source": []
  },
  {
   "cell_type": "code",
   "execution_count": null,
   "id": "australian-impact",
   "metadata": {},
   "outputs": [],
   "source": []
  }
 ],
 "metadata": {
  "kernelspec": {
   "display_name": "Python 3",
   "language": "python",
   "name": "python3"
  },
  "language_info": {
   "codemirror_mode": {
    "name": "ipython",
    "version": 3
   },
   "file_extension": ".py",
   "mimetype": "text/x-python",
   "name": "python",
   "nbconvert_exporter": "python",
   "pygments_lexer": "ipython3",
   "version": "3.9.5"
  }
 },
 "nbformat": 4,
 "nbformat_minor": 5
}
